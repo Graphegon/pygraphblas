{
 "cells": [
  {
   "cell_type": "code",
   "execution_count": 1,
   "metadata": {},
   "outputs": [],
   "source": [
    "import community\n",
    "import networkx as nx\n",
    "from time import time\n",
    "\n",
    "name = lambda v: \"louvain_data/simulated_blockmodel_graph_{}_nodes\".format(v)\n",
    "\n",
    "def make_dict(tup):\n",
    "    trued = {}\n",
    "    for n,c in tup:\n",
    "        trued.setdefault(c, []).append(n)\n",
    "    trued = { tuple(trued[c]):c for c in trued }\n",
    "    return trued\n"
   ]
  },
  {
   "cell_type": "code",
   "execution_count": 2,
   "metadata": {},
   "outputs": [],
   "source": [
    "def get_nodes_comm(name):\n",
    "    with open(name + \"_truePartition.tsv\", \"r\") as f:\n",
    "        truep = [tuple(map(int, l.split('\\t'))) for l in f]\n",
    "\n",
    "    G = nx.read_edgelist(name + \".tsv\", delimiter='\\t', data=(('weight', float),), create_using=nx.DiGraph())\n",
    "    start = time()\n",
    "    partition = community.best_partition(G.to_undirected())\n",
    "    print(name, 'took', time() - start)\n",
    "    pl = [ (int(n), c) for n,c in list(partition.items()) ]\n",
    "    pl.sort()\n",
    "    return make_dict(truep), make_dict(pl)"
   ]
  },
  {
   "cell_type": "code",
   "execution_count": 3,
   "metadata": {},
   "outputs": [
    {
     "name": "stdout",
     "output_type": "stream",
     "text": [
      "louvain_data/simulated_blockmodel_graph_50_nodes took 0.023340702056884766\n",
      "louvain_data/simulated_blockmodel_graph_100_nodes took 0.044061899185180664\n",
      "louvain_data/simulated_blockmodel_graph_500_nodes took 0.477480411529541\n",
      "louvain_data/simulated_blockmodel_graph_1000_nodes took 0.9081997871398926\n",
      "louvain_data/simulated_blockmodel_graph_5000_nodes took 5.477433443069458\n"
     ]
    }
   ],
   "source": [
    "for numv in [50, 100, 500, 1000, 5000]:\n",
    "    trued, pd = get_nodes_comm(name(numv))"
   ]
  },
  {
   "cell_type": "code",
   "execution_count": null,
   "metadata": {},
   "outputs": [],
   "source": []
  }
 ],
 "metadata": {
  "kernelspec": {
   "display_name": "Python 3",
   "language": "python",
   "name": "python3"
  },
  "language_info": {
   "codemirror_mode": {
    "name": "ipython",
    "version": 3
   },
   "file_extension": ".py",
   "mimetype": "text/x-python",
   "name": "python",
   "nbconvert_exporter": "python",
   "pygments_lexer": "ipython3",
   "version": "3.7.3"
  }
 },
 "nbformat": 4,
 "nbformat_minor": 2
}
