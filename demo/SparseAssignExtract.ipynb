{
 "cells": [
  {
   "cell_type": "markdown",
   "metadata": {},
   "source": [
    "# Hypersparse extract and assign\n",
    "\n",
    "A current limitation with the API is that extract/assign methods need dense index arrays (called I and J).  This means you can't extract or assign from hypersparse objects using I and J, since they would need a `2**60` array to hold the inputs.\n",
    "\n",
    "No worries, extract and assign can be done by setting both I and J to `GrB_ALL` (which is the default in pygraphblas) with hypersparse inputs used as masks."
   ]
  },
  {
   "cell_type": "code",
   "execution_count": 1,
   "metadata": {},
   "outputs": [],
   "source": [
    "from pygraphblas import *"
   ]
  },
  {
   "cell_type": "code",
   "execution_count": 53,
   "metadata": {},
   "outputs": [
    {
     "data": {
      "text/html": [
       "        <table>\n",
       "            <th>A</th>\n",
       "                <th>33333</th>\n",
       "                <th>42222</th>\n",
       "                \n",
       "            <tr>\n",
       "            <th>33</th>\n",
       "                <td> t</td>\n",
       "                <td>  </td>\n",
       "            </tr>\n",
       "                \n",
       "            <tr>\n",
       "            <th>42</th>\n",
       "                <td>  </td>\n",
       "                <td> t</td>\n",
       "            </tr>\n",
       "        </table>"
      ],
      "text/plain": [
       "<Matrix (1152921504606846976x1152921504606846976 : 2:BOOL)>"
      ]
     },
     "execution_count": 53,
     "metadata": {},
     "output_type": "execute_result"
    }
   ],
   "source": [
    "M = Matrix.sparse(BOOL)\n",
    "M[42, 42222] = True\n",
    "M[33, 33333] = True\n",
    "M"
   ]
  },
  {
   "cell_type": "code",
   "execution_count": 50,
   "metadata": {},
   "outputs": [
    {
     "data": {
      "text/html": [
       "        <table>\n",
       "            <th>A</th>\n",
       "                <th>42222</th>\n",
       "                \n",
       "            <tr>\n",
       "            <th>42</th>\n",
       "                <td> t</td>\n",
       "            </tr>\n",
       "        </table>"
      ],
      "text/plain": [
       "<Matrix (1152921504606846976x1152921504606846976 : 1:BOOL)>"
      ]
     },
     "execution_count": 50,
     "metadata": {},
     "output_type": "execute_result"
    }
   ],
   "source": [
    "A = Matrix.sparse(BOOL)\n",
    "A[42, 42222] = True\n",
    "E = M.extract_matrix(mask=A)\n",
    "E"
   ]
  },
  {
   "cell_type": "code",
   "execution_count": 51,
   "metadata": {
    "scrolled": true
   },
   "outputs": [
    {
     "data": {
      "text/plain": [
       "(1152921504606846976, 1152921504606846976)"
      ]
     },
     "execution_count": 51,
     "metadata": {},
     "output_type": "execute_result"
    }
   ],
   "source": [
    "E.shape  # still hypersparse"
   ]
  },
  {
   "cell_type": "code",
   "execution_count": 52,
   "metadata": {},
   "outputs": [
    {
     "data": {
      "text/html": [
       "        <table>\n",
       "            <th>A</th>\n",
       "                <th>42222</th>\n",
       "                \n",
       "            <tr>\n",
       "            <th>42</th>\n",
       "                <td> t</td>\n",
       "            </tr>\n",
       "        </table>"
      ],
      "text/plain": [
       "<Matrix (1152921504606846976x1152921504606846976 : 1:BOOL)>"
      ]
     },
     "execution_count": 52,
     "metadata": {},
     "output_type": "execute_result"
    }
   ],
   "source": [
    "G = Matrix.sparse(BOOL)\n",
    "G.assign_matrix(M, mask=E)\n",
    "G"
   ]
  },
  {
   "cell_type": "code",
   "execution_count": 55,
   "metadata": {},
   "outputs": [
    {
     "data": {
      "text/plain": [
       "(1152921504606846976, 1152921504606846976)"
      ]
     },
     "execution_count": 55,
     "metadata": {},
     "output_type": "execute_result"
    }
   ],
   "source": [
    "G.shape # still hypersparse"
   ]
  }
 ],
 "metadata": {
  "kernelspec": {
   "display_name": "Python 3",
   "language": "python",
   "name": "python3"
  },
  "language_info": {
   "codemirror_mode": {
    "name": "ipython",
    "version": 3
   },
   "file_extension": ".py",
   "mimetype": "text/x-python",
   "name": "python",
   "nbconvert_exporter": "python",
   "pygments_lexer": "ipython3",
   "version": "3.8.5"
  }
 },
 "nbformat": 4,
 "nbformat_minor": 4
}
