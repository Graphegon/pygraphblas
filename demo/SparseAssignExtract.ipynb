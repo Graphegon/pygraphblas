{
 "cells": [
  {
   "cell_type": "markdown",
   "metadata": {},
   "source": [
    "# Hypersparse extract and assign\n",
    "\n",
    "A current limitation with the API is that extract/assign methods need dense index arrays (called I and J).  This means you can't extract or assign from hypersparse objects, since they would need a `2**60` array to hold the inputs.\n",
    "\n"
   ]
  },
  {
   "cell_type": "code",
   "execution_count": 1,
   "metadata": {},
   "outputs": [],
   "source": [
    "from pygraphblas import *"
   ]
  },
  {
   "cell_type": "code",
   "execution_count": 11,
   "metadata": {},
   "outputs": [
    {
     "name": "stdout",
     "output_type": "stream",
     "text": [
      "(1152921504606846976, 1152921504606846976)\n"
     ]
    },
    {
     "data": {
      "text/html": [
       "        <table>\n",
       "            <th>A</th>\n",
       "                <th>33333</th>\n",
       "                <th>42222</th>\n",
       "                \n",
       "            <tr>\n",
       "            <th>33</th>\n",
       "                <td> t</td>\n",
       "                <td>  </td>\n",
       "            </tr>\n",
       "                \n",
       "            <tr>\n",
       "            <th>42</th>\n",
       "                <td>  </td>\n",
       "                <td> t</td>\n",
       "            </tr>\n",
       "        </table>"
      ],
      "text/plain": [
       "<Matrix (1152921504606846976x1152921504606846976 : 2:BOOL)>"
      ]
     },
     "execution_count": 11,
     "metadata": {},
     "output_type": "execute_result"
    }
   ],
   "source": [
    "M = Matrix.sparse(BOOL)\n",
    "print(M.shape)\n",
    "M[42, 42222] = True\n",
    "M[33, 33333] = True\n",
    "M"
   ]
  },
  {
   "cell_type": "markdown",
   "metadata": {},
   "source": [
    "There's no way to formulate an extract on that matrix without making an impossible vector.\n",
    "\n",
    "SuiteSparse does allow you to extract from a hypersparse matrix if you use index boundaries with the `GxB_RANGE` extension, *but* the spec requires the output to be of the dimension `|I| by |J|` so the objects no longer commute without being unpacked and repacked:"
   ]
  },
  {
   "cell_type": "code",
   "execution_count": 37,
   "metadata": {},
   "outputs": [
    {
     "data": {
      "text/html": [
       "        <table>\n",
       "            <th>A</th>\n",
       "                <th>3333</th>\n",
       "                <th>12222</th>\n",
       "                \n",
       "            <tr>\n",
       "            <th>3</th>\n",
       "                <td> t</td>\n",
       "                <td>  </td>\n",
       "            </tr>\n",
       "                \n",
       "            <tr>\n",
       "            <th>12</th>\n",
       "                <td>  </td>\n",
       "                <td> t</td>\n",
       "            </tr>\n",
       "        </table>"
      ],
      "text/plain": [
       "<Matrix (31x20001 : 2:BOOL)>"
      ]
     },
     "execution_count": 37,
     "metadata": {},
     "output_type": "execute_result"
    }
   ],
   "source": [
    "E = M[30:60,30000:50000]\n",
    "E"
   ]
  },
  {
   "cell_type": "code",
   "execution_count": 38,
   "metadata": {
    "scrolled": true
   },
   "outputs": [
    {
     "data": {
      "text/plain": [
       "(31, 20001)"
      ]
     },
     "execution_count": 38,
     "metadata": {},
     "output_type": "execute_result"
    }
   ],
   "source": [
    "E.shape  # no longer hypersparse"
   ]
  },
  {
   "cell_type": "markdown",
   "metadata": {},
   "source": [
    "In order to get it back to hypersparse, it has to be resized:"
   ]
  },
  {
   "cell_type": "code",
   "execution_count": 39,
   "metadata": {},
   "outputs": [
    {
     "data": {
      "text/html": [
       "        <table>\n",
       "            <th>A</th>\n",
       "                <th>3333</th>\n",
       "                <th>12222</th>\n",
       "                \n",
       "            <tr>\n",
       "            <th>3</th>\n",
       "                <td> t</td>\n",
       "                <td>  </td>\n",
       "            </tr>\n",
       "                \n",
       "            <tr>\n",
       "            <th>12</th>\n",
       "                <td>  </td>\n",
       "                <td> t</td>\n",
       "            </tr>\n",
       "        </table>"
      ],
      "text/plain": [
       "<Matrix (1152921504606846976x1152921504606846976 : 2:BOOL)>"
      ]
     },
     "execution_count": 39,
     "metadata": {},
     "output_type": "execute_result"
    }
   ],
   "source": [
    "E.resize(GxB_INDEX_MAX, GxB_INDEX_MAX)\n",
    "E"
   ]
  },
  {
   "cell_type": "code",
   "execution_count": 41,
   "metadata": {},
   "outputs": [
    {
     "data": {
      "text/plain": [
       "(1152921504606846976, 1152921504606846976)"
      ]
     },
     "execution_count": 41,
     "metadata": {},
     "output_type": "execute_result"
    }
   ],
   "source": [
    "E.shape # now it's back to hypersparse"
   ]
  }
 ],
 "metadata": {
  "kernelspec": {
   "display_name": "Python 3",
   "language": "python",
   "name": "python3"
  },
  "language_info": {
   "codemirror_mode": {
    "name": "ipython",
    "version": 3
   },
   "file_extension": ".py",
   "mimetype": "text/x-python",
   "name": "python",
   "nbconvert_exporter": "python",
   "pygments_lexer": "ipython3",
   "version": "3.8.5"
  }
 },
 "nbformat": 4,
 "nbformat_minor": 4
}
