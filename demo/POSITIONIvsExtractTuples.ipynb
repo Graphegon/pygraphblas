{
 "cells": [
  {
   "cell_type": "code",
   "execution_count": 7,
   "metadata": {
    "scrolled": false
   },
   "outputs": [
    {
     "data": {
      "image/png": "[encoded data removed]",
      "text/plain": [
       "<Figure size 432x288 with 1 Axes>"
      ]
     },
     "metadata": {
      "needs_background": "light"
     },
     "output_type": "display_data"
    }
   ],
   "source": [
    "from pygraphblas import *\n",
    "import random\n",
    "from time import time\n",
    "import matplotlib\n",
    "import matplotlib.pyplot as plt\n",
    "import numpy as np\n",
    "\n",
    "mtimes = []\n",
    "atimes = []\n",
    "btimes = []\n",
    "labels = []\n",
    "for i in range(5, 20):\n",
    "    random.seed(42)\n",
    "    labels.append(f'2**{i}')\n",
    "    M = Matrix.random(FP64, GxB_INDEX_MAX, GxB_INDEX_MAX, 2**i)\n",
    "    w = Vector.sparse(FP64)\n",
    "    v = Vector.sparse(INT64)\n",
    "    \n",
    "    tic = time()\n",
    "    M.reduce_vector(out=w)\n",
    "    w.select('max', out=w)\n",
    "    mtimes.append(time() - tic)\n",
    "    \n",
    "    tic = time()\n",
    "    w.apply(INT64.POSITIONI, out=v)\n",
    "    a = [v.reduce_int(INT64.ANY_MONOID)]\n",
    "    atimes.append(time() - tic)\n",
    "    \n",
    "    tic = time()\n",
    "    b = list(w.I)\n",
    "    btimes.append(time() - tic)\n",
    "    assert a == b\n",
    "\n",
    "x = np.arange(len(labels))  # the label locations\n",
    "width = 0.5  # the width of the bars\n",
    "fig, ax = plt.subplots()\n",
    "#rects1 = ax.bar(x - width/2, mtimes, width, label='MAX')\n",
    "rects2 = ax.bar(x - width/2, atimes, width, label='POSITIONI')\n",
    "rects3 = ax.bar(x + width/2, btimes, width, label='ExtractTuples')\n",
    "\n",
    "# Add some text for labels, title and custom x-axis tick labels, etc.\n",
    "ax.set_ylabel('Time')\n",
    "ax.set_xticks(x)\n",
    "ax.set_xticklabels(labels)\n",
    "ax.legend()\n",
    "\n",
    "fig.tight_layout()\n",
    "\n",
    "plt.show()\n"
   ]
  }
 ],
 "metadata": {
  "kernelspec": {
   "display_name": "Python 3",
   "language": "python",
   "name": "python3"
  },
  "language_info": {
   "codemirror_mode": {
    "name": "ipython",
    "version": 3
   },
   "file_extension": ".py",
   "mimetype": "text/x-python",
   "name": "python",
   "nbconvert_exporter": "python",
   "pygments_lexer": "ipython3",
   "version": "3.8.5"
  }
 },
 "nbformat": 4,
 "nbformat_minor": 4
}
